{
 "cells": [
  {
   "cell_type": "code",
   "execution_count": 1,
   "metadata": {},
   "outputs": [],
   "source": [
    "import numpy as np\n",
    "import pytesseract\n",
    "import cv2\n",
    "from east_detector import EASTDetector\n",
    "import matplotlib.pyplot as plt"
   ]
  },
  {
   "cell_type": "code",
   "execution_count": 2,
   "metadata": {},
   "outputs": [],
   "source": [
    "def load_image(name):\n",
    "    image = cv2.imread(name)\n",
    "    return cv2.cvtColor(image, cv2.COLOR_BGR2RGB)"
   ]
  },
  {
   "cell_type": "code",
   "execution_count": 3,
   "metadata": {},
   "outputs": [],
   "source": [
    "def show_images(images, cols=2, titles=None):\n",
    "    assert titles is None or len(images) == len(titles)\n",
    "    n_images = len(images)\n",
    "    if titles is None: titles = ['Image (%d)' % i for i in range(1, n_images + 1)]\n",
    "    fig = plt.figure()\n",
    "    fig.tight_layout()\n",
    "    for n, (image, title) in enumerate(zip(images, titles)):\n",
    "        a = fig.add_subplot(cols, np.ceil(n_images/float(cols)), n + 1)\n",
    "        if image.ndim == 2:\n",
    "            plt.gray()\n",
    "        plt.imshow(image)\n",
    "        a.set_title(title)\n",
    "        a.axis('off')\n",
    "    fig.set_size_inches(np.array(fig.get_size_inches()) * n_images)\n",
    "    plt.show()"
   ]
  },
  {
   "cell_type": "code",
   "execution_count": 4,
   "metadata": {},
   "outputs": [],
   "source": [
    "def narrow(image, convert_color = False, binarize = True):\n",
    "    \"\"\"\n",
    "    Draws narrower bounding boxes by heavily dilating the image and picking out the 3 largest blocks\n",
    "    \"\"\"\n",
    "    original = image.copy()\n",
    "    if convert_color:\n",
    "        image = cv2.cvtColor(image, cv2.COLOR_RGB2GRAY)\n",
    "        \n",
    "    if binarize:            \n",
    "        _, image = cv2.threshold(image, 0, 255, cv2.THRESH_BINARY_INV + cv2.THRESH_OTSU)\n",
    "        if np.mean(image) > 127:\n",
    "            binary = cv2.bitwise_not(image)\n",
    "        \n",
    "    box_kernel = np.ones((5, 25), np.uint8)\n",
    "    dilation = cv2.dilate(image, box_kernel, iterations = 1)\n",
    "    bounds, _ = cv2.findContours(dilation, cv2.RETR_EXTERNAL, cv2.CHAIN_APPROX_SIMPLE)\n",
    "\n",
    "    boxes = []\n",
    "\n",
    "    for cnt in bounds:\n",
    "        x, y, w, h = cv2.boundingRect(cnt)\n",
    "        region = original[y:y + h, x:x + w]\n",
    "        boxes.append(region)\n",
    "\n",
    "    boxes = sorted(boxes, key=lambda i: -1 * i.shape[0] * i.shape[1])\n",
    "    return boxes[:3]\n",
    "\n",
    "def narrow_images(images, convert_color=False, binarize=False):\n",
    "    narrowed = []\n",
    "    titles = []\n",
    "    for img in images:\n",
    "        regions = narrow(img, convert_color, binarize)\n",
    "        for region in regions:\n",
    "            narrowed.append(region)\n",
    "    return narrowed"
   ]
  },
  {
   "cell_type": "code",
   "execution_count": 5,
   "metadata": {},
   "outputs": [],
   "source": [
    "def binarize_images(images, black_on_white=False):\n",
    "    binarized = []\n",
    "    for img in images:\n",
    "        gray = cv2.cvtColor(img, cv2.COLOR_RGB2GRAY)\n",
    "        _, binary = cv2.threshold(gray, 0, 255, cv2.THRESH_BINARY_INV + cv2.THRESH_OTSU)\n",
    "        \n",
    "        if np.mean(binary) > 127:\n",
    "            binary = cv2.bitwise_not(binary)\n",
    "        \n",
    "        binarized.append(binary)\n",
    "    return binarized"
   ]
  },
  {
   "cell_type": "code",
   "execution_count": 6,
   "metadata": {},
   "outputs": [],
   "source": [
    "def dilate_images(images, kernel = np.ones((1, 1), np.uint8), iterations=1):\n",
    "    dilated = []\n",
    "    for img in images:\n",
    "        img_dilated = cv2.dilate(img, kernel, iterations=iterations)\n",
    "        dilated.append(img_dilated)\n",
    "    return dilated"
   ]
  },
  {
   "cell_type": "code",
   "execution_count": 7,
   "metadata": {},
   "outputs": [],
   "source": [
    "def blur_images(images, blur_weight=1):\n",
    "    blurred = []\n",
    "    for dilated in images:\n",
    "        img_blurred = cv2.medianBlur(dilated, blur_weight)\n",
    "        blurred.append(img_blurred)\n",
    "    return blurred"
   ]
  },
  {
   "cell_type": "markdown",
   "metadata": {},
   "source": [
    "# Text Localization\n",
    "![Book Stack](Images/books1.jpg)"
   ]
  },
  {
   "cell_type": "code",
   "execution_count": 8,
   "metadata": {},
   "outputs": [
    {
     "name": "stdout",
     "output_type": "stream",
     "text": [
      "DR) The Way It [5 — cxsrwour\n",
      "LONG  WaAtkine In circtes HF\n",
      "\n",
      "RCA Maca CRC Usa CW ta Sohwxcrceey]\n"
     ]
    }
   ],
   "source": [
    "books = load_image(\"Images/books1.jpg\")\n",
    "print(pytesseract.image_to_string(books))"
   ]
  },
  {
   "cell_type": "markdown",
   "metadata": {},
   "source": [
    "## EAST Text Detection"
   ]
  },
  {
   "cell_type": "code",
   "execution_count": null,
   "metadata": {},
   "outputs": [],
   "source": [
    "%matplotlib tk\n",
    "detector = EASTDetector()\n",
    "slices = detector.get_slices(books)"
   ]
  },
  {
   "cell_type": "code",
   "execution_count": null,
   "metadata": {},
   "outputs": [],
   "source": [
    "titles = [pytesseract.image_to_string(img) for img in slices]\n",
    "show_images(slices, titles=titles, cols=3)"
   ]
  },
  {
   "cell_type": "markdown",
   "metadata": {},
   "source": [
    "## Frame Narrowing"
   ]
  },
  {
   "cell_type": "code",
   "execution_count": null,
   "metadata": {},
   "outputs": [],
   "source": [
    "narrowed = binarize_images(slices[2:], black_on_white=False)\n",
    "narrowed = narrow_images(narrowed)"
   ]
  },
  {
   "cell_type": "code",
   "execution_count": null,
   "metadata": {},
   "outputs": [],
   "source": [
    "titles = [pytesseract.image_to_string(img) for img in narrowed]\n",
    "show_images(narrowed, titles=titles, cols=3)"
   ]
  },
  {
   "cell_type": "markdown",
   "metadata": {},
   "source": [
    "# Image Filters\n",
    "![Book 2](Images/books2.jpg)"
   ]
  },
  {
   "cell_type": "code",
   "execution_count": null,
   "metadata": {},
   "outputs": [],
   "source": [
    "books = load_image(\"Images/books2.jpg\")\n",
    "%matplotlib tk\n",
    "detector = EASTDetector(small_overlap=0.75)\n",
    "slices = detector.get_slices(books)"
   ]
  },
  {
   "cell_type": "code",
   "execution_count": null,
   "metadata": {},
   "outputs": [],
   "source": [
    "titles = [pytesseract.image_to_string(img) for img in slices]\n",
    "show_images(slices, titles=titles, cols=3)"
   ]
  },
  {
   "cell_type": "markdown",
   "metadata": {},
   "source": [
    "## Binarization"
   ]
  },
  {
   "cell_type": "code",
   "execution_count": null,
   "metadata": {},
   "outputs": [],
   "source": [
    "binarized = binarize_images(slices, black_on_white=True)"
   ]
  },
  {
   "cell_type": "code",
   "execution_count": null,
   "metadata": {},
   "outputs": [],
   "source": [
    "titles = [pytesseract.image_to_string(img) for img in binarized]\n",
    "show_images(binarized, titles=titles, cols=3)"
   ]
  },
  {
   "cell_type": "markdown",
   "metadata": {},
   "source": [
    "## Blurring"
   ]
  },
  {
   "cell_type": "code",
   "execution_count": null,
   "metadata": {},
   "outputs": [],
   "source": [
    "blurred = blur_images([binarized[-1]], blur_weight=3)"
   ]
  },
  {
   "cell_type": "code",
   "execution_count": null,
   "metadata": {},
   "outputs": [],
   "source": [
    "titles = [pytesseract.image_to_string(img) for img in blurred]\n",
    "show_images(blurred, titles=titles, cols=3)"
   ]
  },
  {
   "cell_type": "markdown",
   "metadata": {},
   "source": [
    "## Dilation"
   ]
  },
  {
   "cell_type": "code",
   "execution_count": null,
   "metadata": {},
   "outputs": [],
   "source": [
    "blurred = blur_images([binarized[0]], blur_weight=1)\n",
    "dilated = dilate_images(blurred, kernel=np.ones((5, 5), np.uint8))"
   ]
  },
  {
   "cell_type": "code",
   "execution_count": null,
   "metadata": {},
   "outputs": [],
   "source": [
    "titles = [pytesseract.image_to_string(img) for img in dilated]\n",
    "show_images(dilated, titles=titles, cols=3)"
   ]
  },
  {
   "cell_type": "markdown",
   "metadata": {},
   "source": [
    "# Text Localizaiton using Contouring"
   ]
  },
  {
   "cell_type": "code",
   "execution_count": 19,
   "metadata": {},
   "outputs": [],
   "source": [
    "books = load_image(\"Images/books1.jpg\")\n",
    "detector = EASTDetector()\n",
    "slices = detector.get_slices(books)\n",
    "img = slices[-1]"
   ]
  },
  {
   "cell_type": "code",
   "execution_count": 20,
   "metadata": {},
   "outputs": [
    {
     "data": {
      "text/plain": [
       "<matplotlib.image.AxesImage at 0x123ac6bd0>"
      ]
     },
     "execution_count": 20,
     "metadata": {},
     "output_type": "execute_result"
    }
   ],
   "source": [
    "%matplotlib tk\n",
    "processed = cv2.cvtColor(img, cv2.COLOR_RGB2GRAY)           \n",
    "_, processed = cv2.threshold(processed, 0, 255, cv2.THRESH_BINARY_INV + cv2.THRESH_OTSU)\n",
    "if np.mean(processed) > 127:\n",
    "    processed = cv2.bitwise_not(processed)\n",
    "\n",
    "box_kernel = np.ones((5, 25), np.uint8)\n",
    "dilation = cv2.dilate(processed, box_kernel, iterations = 1)\n",
    "bounds, _ = cv2.findContours(dilation, cv2.RETR_EXTERNAL, cv2.CHAIN_APPROX_SIMPLE)\n",
    "\n",
    "for cnt in bounds:\n",
    "    x, y, w, h = cv2.boundingRect(cnt)\n",
    "    cv2.rectangle(img, (x, y), (x+w, y+h), (0, 255, 0), 1)\n",
    "    \n",
    "plt.imshow(dilation, cmap='gray')"
   ]
  },
  {
   "cell_type": "code",
   "execution_count": 21,
   "metadata": {},
   "outputs": [
    {
     "data": {
      "text/plain": [
       "<matplotlib.image.AxesImage at 0x123365450>"
      ]
     },
     "execution_count": 21,
     "metadata": {},
     "output_type": "execute_result"
    }
   ],
   "source": [
    "plt.imshow(img)"
   ]
  }
 ],
 "metadata": {
  "kernelspec": {
   "display_name": "Python 3",
   "language": "python",
   "name": "python3"
  },
  "language_info": {
   "codemirror_mode": {
    "name": "ipython",
    "version": 3
   },
   "file_extension": ".py",
   "mimetype": "text/x-python",
   "name": "python",
   "nbconvert_exporter": "python",
   "pygments_lexer": "ipython3",
   "version": "3.7.4"
  }
 },
 "nbformat": 4,
 "nbformat_minor": 2
}
